{
 "cells": [
  {
   "cell_type": "markdown",
   "id": "07297a3d-048b-496b-adb0-8fdd67316021",
   "metadata": {
    "editable": true,
    "slideshow": {
     "slide_type": ""
    },
    "tags": []
   },
   "source": [
    "# Hosts: Asset trait introspection\n"
   ]
  },
  {
   "cell_type": "markdown",
   "id": "60bd9de5-64c3-4f15-8824-ff1d94a894d7",
   "metadata": {
    "editable": true,
    "jp-MarkdownHeadingCollapsed": true,
    "slideshow": {
     "slide_type": ""
    },
    "tags": []
   },
   "source": [
    "## Setup\n",
    "\n",
    "See \"Hello OpenAssetIO\" notebook for details on how to bootstrap OpenAssetIO. "
   ]
  },
  {
   "cell_type": "code",
   "outputs": [],
   "source": [
    "from resources import helpers\n",
    "\n",
    "manager, context = helpers.bootstrap(\"resources/querying_entity_traits/openassetio_config.toml\")"
   ],
   "metadata": {
    "collapsed": false,
    "ExecuteTime": {
     "end_time": "2024-02-23T16:12:44.628878901Z",
     "start_time": "2024-02-23T16:12:44.565848853Z"
    }
   },
   "id": "df703c44ad53b21c",
   "execution_count": 55
  },
  {
   "cell_type": "markdown",
   "id": "1a80594a-b171-49c5-8cfd-00e334759b1e",
   "metadata": {
    "editable": true,
    "slideshow": {
     "slide_type": ""
    },
    "tags": []
   },
   "source": [
    "## Getting started"
   ]
  },
  {
   "cell_type": "markdown",
   "id": "22277554-b477-4600-8c2a-90ee8d5c064e",
   "metadata": {
    "editable": true,
    "slideshow": {
     "slide_type": ""
    },
    "tags": []
   },
   "source": [
    "In the following examples we're going to ask the manager about the traits associated with an asset.\n",
    "\n",
    "We've been given a URI by a colleague, which we need to turn into an `EntityReference` before we can use it to query the asset management system."
   ]
  },
  {
   "cell_type": "code",
   "execution_count": 56,
   "id": "82c3962a-27b5-4375-b4fa-dbd14dcfc93b",
   "metadata": {
    "ExecuteTime": {
     "end_time": "2024-02-23T16:12:44.661641284Z",
     "start_time": "2024-02-23T16:12:44.632112008Z"
    }
   },
   "outputs": [
    {
     "data": {
      "text/markdown": "> **Result:**\n> `<openassetio.EntityReference bal:///project_artwork/logos/openassetio>`"
     },
     "metadata": {},
     "output_type": "display_data"
    }
   ],
   "source": [
    "logo_ref = manager.createEntityReference(\"bal:///project_artwork/logos/openassetio\")\n",
    "\n",
    "helpers.display_result(repr(logo_ref))"
   ]
  },
  {
   "cell_type": "markdown",
   "id": "ec69ae04-1895-4243-a949-71360175b173",
   "metadata": {
    "editable": true,
    "slideshow": {
     "slide_type": ""
    },
    "tags": []
   },
   "source": [
    "Now we have an entity reference for our logo, we can use the API to learn more about it."
   ]
  },
  {
   "cell_type": "markdown",
   "source": [
    "## The `entityTraits` method\n",
    "\n",
    "The `entityTraits` methods allows a host to query the manager for the traits associated with a given entity reference. It has two access modes. `kRead` mode will return all the traits that the manager associates with an entity. `kWrite` mode returns the minimal set of traits required to publish to the given entity reference.\n",
    "\n",
    "The `entityTraits` method is a required method that managers _must_ implement, so there is no need to perform a `hasCapability` check before using it.\n",
    "\n",
    "The following examples illustrate usage of the `entityTraits` method."
   ],
   "metadata": {
    "collapsed": false
   },
   "id": "d8eaf0a116f06949"
  },
  {
   "cell_type": "markdown",
   "id": "4348da46-9467-4734-9f96-d84e26f7c11f",
   "metadata": {
    "editable": true,
    "jp-MarkdownHeadingCollapsed": true,
    "slideshow": {
     "slide_type": ""
    },
    "tags": []
   },
   "source": [
    "## Querying the full set of traits associated with an entity"
   ]
  },
  {
   "cell_type": "markdown",
   "id": "5e32a587-5233-441e-9b80-1b2d6d3769fb",
   "metadata": {
    "editable": true,
    "slideshow": {
     "slide_type": ""
    },
    "tags": []
   },
   "source": [
    "OpenAssetIO does not try to fully define entity types. What it does define are traits that an entity satisfies. An entity is theoretically fully specified by some (large) subset of traits in the universe of all possible traits. A manager understands some subset of that theoretical complete subset of traits. This is the \"trait set\" of the entity, with respect to a given manager.\n",
    "\n",
    "In order to find out what the trait set of an entity is, we can use the `entityTraits` API method."
   ]
  },
  {
   "cell_type": "code",
   "execution_count": 57,
   "id": "0fcf0214-2561-488a-8eee-0330ca27710d",
   "metadata": {
    "scrolled": true,
    "ExecuteTime": {
     "end_time": "2024-02-23T16:12:44.707098268Z",
     "start_time": "2024-02-23T16:12:44.661791793Z"
    }
   },
   "outputs": [
    {
     "data": {
      "text/markdown": "> **Result:**\n> `{'openassetio-mediacreation:identity.DisplayName', 'openassetio-mediacreation:content.LocatableContent', 'openassetio-mediacreation:timeDomain.FrameRanged', 'openassetio-mediacreation:lifecycle.Version', 'openassetio-mediacreation:usage.Entity'}`"
     },
     "metadata": {},
     "output_type": "display_data"
    }
   ],
   "source": [
    "from openassetio.access import EntityTraitsAccess\n",
    "\n",
    "entity_trait_set = manager.entityTraits(logo_ref, EntityTraitsAccess.kRead, context)\n",
    "\n",
    "helpers.display_result(entity_trait_set)"
   ]
  },
  {
   "cell_type": "markdown",
   "id": "a6c4f0ff-0e5d-40b7-84d6-d46efa8cba7a",
   "metadata": {
    "editable": true,
    "slideshow": {
     "slide_type": ""
    },
    "tags": []
   },
   "source": [
    "`EntityTraitAccess.kRead` tells the manager the reason why you want the trait set. In this case we want to use the result in a read context, e.g. `resolve`ing properties, grouping entities of the same type in a UI, or determining the type of entity after a drag-and-drop of an entity reference into the application.\n",
    "\n",
    "What happens when we `resolve` this trait set?"
   ]
  },
  {
   "cell_type": "code",
   "execution_count": 58,
   "outputs": [
    {
     "data": {
      "text/markdown": "> **Result:**\n> `TraitsData({\"openassetio-mediacreation:identity.DisplayName\", \"openassetio-mediacreation:content.LocatableContent\", \"openassetio-mediacreation:lifecycle.Version\"})`"
     },
     "metadata": {},
     "output_type": "display_data"
    }
   ],
   "source": [
    "from openassetio.access import ResolveAccess\n",
    "\n",
    "entity_data = manager.resolve(logo_ref, entity_trait_set, ResolveAccess.kRead, context)\n",
    "\n",
    "helpers.display_result(entity_data)"
   ],
   "metadata": {
    "collapsed": false,
    "ExecuteTime": {
     "end_time": "2024-02-23T16:12:44.707897430Z",
     "start_time": "2024-02-23T16:12:44.689633876Z"
    }
   },
   "id": "fbae28c950c33589"
  },
  {
   "cell_type": "markdown",
   "source": [
    "Note that not all traits have `resolve`able properties - many are simply used to aid classification. However, it is safe to `resolve` the full trait set - those that do not have properties are simply missing from the response.\n",
    "\n",
    "As an aside, we can filter the trait set through `managementPolicy`, if we wish to know in advance which traits any given manager is capable of providing data for"
   ],
   "metadata": {
    "collapsed": false
   },
   "id": "609f599ef0708376"
  },
  {
   "cell_type": "code",
   "execution_count": 59,
   "outputs": [
    {
     "data": {
      "text/markdown": "> **Result:**\n> `TraitsData({\"openassetio-mediacreation:managementPolicy.Managed\", \"openassetio-mediacreation:lifecycle.Version\", \"openassetio-mediacreation:content.LocatableContent\", \"openassetio-mediacreation:identity.DisplayName\"})`"
     },
     "metadata": {},
     "output_type": "display_data"
    }
   ],
   "source": [
    "from openassetio.access import PolicyAccess\n",
    "\n",
    "[policy_data] = manager.managementPolicy([entity_trait_set], PolicyAccess.kRead, context)\n",
    "\n",
    "helpers.display_result(policy_data)"
   ],
   "metadata": {
    "collapsed": false,
    "ExecuteTime": {
     "end_time": "2024-02-23T16:12:44.711487793Z",
     "start_time": "2024-02-23T16:12:44.707200885Z"
    }
   },
   "id": "b5c27257bb1af339"
  },
  {
   "cell_type": "markdown",
   "source": [
    "Note how the trait set returned from `managementPolicy` (minus any `managementPolicy` traits) matches the trait set we successfully `resolve`d.  This is missing the `FrameRangedTrait`, despite it being included in the result of `entityTraits`, meaning that the `FrameRangedTrait` is a quality of the entity, but properties of it cannot be resolved (perhaps due to some technical limitation of the manager).\n",
    "\n",
    "In this way `managementPolicy` can be used to filter the trait set of an entity to only those traits that have `resolve`able properties. However, note that `mangementPolicy` does not take an entity reference argument, only trait set(s). The result of `managementPolicy` is therefore constant for any given manager, regardless of entity.\n",
    "\n",
    "In practice, a well-behaved host will cherry-pick only those traits the host needs to `resolve`. That trait set should then be passed to `managementPolicy` to determine what the manager can actually provide. This process is independent of `entityTraits`. That is, the host should know at application startup which traits it's going to need, and so query `managementPolicy` ahead of time and store the result for use later. See relevant documentation for `managementPolicy` for more information."
   ],
   "metadata": {
    "collapsed": false
   },
   "id": "3dd1e760a2097051"
  },
  {
   "cell_type": "markdown",
   "source": [
    "## Querying the required set of traits for publishing an entity\n",
    "\n",
    "By using the `kWrite` access mode of `entityTraits`, we can query the minimal trait set that _must_ be provided when publishing to a particular entity reference.\n",
    "\n",
    "In most applications it is expected that the user will provide (via previous interaction with the manager) an entity reference that is suitable for a particular use-case. With this assumption, the host should not need to include additional data that is irrelevant for the use-case when publishing to an entity reference. That is, the host should not need to `resolve` data for a given entity reference for the sole purpose of immediately giving the data back again to the manager. \n",
    "\n",
    "This corresponds to an important philosophy of OpenAssetIO: when the user provides an entity reference, the host should not make assumptions about its provenance. It may be a reference to an existing entity, or a reference to a container, or a placeholder reference to an entity that doesn't exist yet, etc.\n",
    "\n",
    "As such, `entityTraits` should rarely appear in publishing code. However, there are use cases where it is valuable."
   ],
   "metadata": {
    "collapsed": false
   },
   "id": "dbb66de3947d7b24"
  },
  {
   "cell_type": "markdown",
   "source": [
    "### An empty trait set is a valid response\n",
    "\n",
    "BAL has no restrictions on publishing to new entity references. So what happens if we just make up an entity reference, and try to get the trait set for it?"
   ],
   "metadata": {
    "collapsed": false
   },
   "id": "1bfdacf358dad9fa"
  },
  {
   "cell_type": "code",
   "execution_count": 60,
   "outputs": [
    {
     "data": {
      "text/markdown": "> **Result:**\n> `set()`"
     },
     "metadata": {},
     "output_type": "display_data"
    }
   ],
   "source": [
    "new_entity_ref = manager.createEntityReference(\"bal:///some/new/ref\")\n",
    "\n",
    "entity_trait_set = manager.entityTraits(new_entity_ref, EntityTraitsAccess.kWrite, context)\n",
    "\n",
    "helpers.display_result(entity_trait_set)"
   ],
   "metadata": {
    "collapsed": false,
    "ExecuteTime": {
     "end_time": "2024-02-23T16:12:44.786859139Z",
     "start_time": "2024-02-23T16:12:44.711089944Z"
    }
   },
   "id": "c771cf01dc76f671"
  },
  {
   "cell_type": "markdown",
   "source": [
    "...an empty trait set is returned.\n",
    "\n",
    "If the manager does not know the trait set, or it's not applicable, the returned trait set may be empty. For example, as illustrated here, the entity reference may point to a new entity with no type constraints. "
   ],
   "metadata": {
    "collapsed": false
   },
   "id": "2985087ccc829642"
  },
  {
   "cell_type": "markdown",
   "source": [
    "### Deciding whether an entity reference is appropriate\n",
    "\n",
    "Let's say we are in a widget used for publishing 3D models. The user provides an entity reference they want to publish to. \n",
    "\n",
    "Since we deal with 3D models, we expect this entity reference to support publishing a trait set of `{GeometryTrait.kId, LocatableContentTrait.kId}`. But the user gives us `logo_ref`..."
   ],
   "metadata": {
    "collapsed": false
   },
   "id": "8103bbcc9d83049c"
  },
  {
   "cell_type": "code",
   "execution_count": 61,
   "outputs": [
    {
     "data": {
      "text/markdown": "> **Result:**\n> `{'openassetio-mediacreation:identity.DisplayName', 'openassetio-mediacreation:content.LocatableContent', 'openassetio-mediacreation:usage.Entity', 'openassetio-mediacreation:timeDomain.FrameRanged'}`"
     },
     "metadata": {},
     "output_type": "display_data"
    },
    {
     "data": {
      "text/markdown": "> **Result:**\n> `Does our widget support this entity? False`"
     },
     "metadata": {},
     "output_type": "display_data"
    }
   ],
   "source": [
    "from openassetio_mediacreation.traits.content import LocatableContentTrait\n",
    "from openassetio_mediacreation.traits.threeDimensional import GeometryTrait\n",
    "\n",
    "entity_trait_set = manager.entityTraits(logo_ref, EntityTraitsAccess.kWrite, context)\n",
    "\n",
    "helpers.display_result(entity_trait_set)\n",
    "\n",
    "# Check if the minimal trait set required for publishing is satisfied by the trait set we're planning to publish.\n",
    "is_entity_supported = entity_trait_set <= {GeometryTrait.kId, LocatableContentTrait.kId}\n",
    "\n",
    "helpers.display_result(f\"Does our widget support this entity? {is_entity_supported}\")"
   ],
   "metadata": {
    "collapsed": false,
    "ExecuteTime": {
     "end_time": "2024-02-23T16:12:44.787865610Z",
     "start_time": "2024-02-23T16:12:44.752964843Z"
    }
   },
   "id": "c5cf5d230e7bc4d6"
  },
  {
   "cell_type": "markdown",
   "source": [
    "As expected, the trait set of the logo is not contained within our expected trait set, so our widget could flag an error to the user at this point.\n",
    "\n",
    "A host could skip this check and try to publish regardless, reporting any error (from `preflight` or `register`) to the user. The `preflight` method is intended, in part, as a validation step, so this workflow is not unreasonable. However, doing this would likely provide a worse UX, since the widget could not be pre-emptively disabled."
   ],
   "metadata": {
    "collapsed": false
   },
   "id": "5a0d4c198b48e907"
  },
  {
   "cell_type": "markdown",
   "source": [
    "#### Aside: the minimal trait set required for publishing \n",
    "\n",
    "In the previous example we see that the resulting trait set is smaller than that for `kRead`. This is because it is the minimal set of traits that the new entity _must_ possess when publishing to this entity reference.\n",
    "\n",
    "Therefore, this trait set _must_ be imbued in the `TraitsData` given to `preflight` and `register` during the publishing process.\n",
    "\n",
    "When registering new data, the full trait set defines what 'kind' of entity is being published, regardless of the specifics of what actual data is provided.\n",
    "\n",
    "As a consequence, the minimal trait set _does not_ indicate whether a manager is capable of storing or dictating their properties (e.g. providing a file path to save to). See relevant documentation for `managementPolicy` for more information on how to determine that.\n",
    "\n",
    "Again, many of these traits will not have properties associated with them at all. These must still be passed to `preflight`/`register` so that the manager knows the kind of entity you are publishing.\n",
    "\n",
    "So what happens if we forget to include all these traits?"
   ],
   "metadata": {
    "collapsed": false
   },
   "id": "a28c7f370dfc7260"
  },
  {
   "cell_type": "code",
   "execution_count": 62,
   "outputs": [
    {
     "data": {
      "text/markdown": "> **Result:**\n> `bal:///project_artwork/logos/openassetio`"
     },
     "metadata": {},
     "output_type": "display_data"
    }
   ],
   "source": [
    "from openassetio.trait import TraitsData\n",
    "from openassetio.access import PublishingAccess\n",
    "from openassetio_mediacreation.traits.auth import BearerTokenTrait\n",
    "\n",
    "data = TraitsData()\n",
    "LocatableContentTrait(data).setLocation(\"file:///some/path\")\n",
    "BearerTokenTrait(data).setToken(\"==ZxErn43G\")\n",
    "\n",
    "entity_ref_or_error = manager.preflight(\n",
    "    logo_ref, data, PublishingAccess.kWrite, context, manager.BatchElementErrorPolicyTag.kVariant)\n",
    "\n",
    "helpers.display_result(entity_ref_or_error)"
   ],
   "metadata": {
    "collapsed": false,
    "ExecuteTime": {
     "end_time": "2024-02-23T16:12:44.855666486Z",
     "start_time": "2024-02-23T16:12:44.760666894Z"
    }
   },
   "id": "77a3047239a3c76a"
  },
  {
   "cell_type": "markdown",
   "source": [
    "We get an `InvalidTraitSet` error if the provided trait set is not compatible, or sufficiently complete, for publishing to the entity reference.\n",
    "\n",
    "TODO(DF): There is also `InvalidPreflightHint`, but this doesn't obviously apply to `register`. We could use that instead, or rename it, or come up with a new `BatchElementError` code."
   ],
   "metadata": {
    "collapsed": false
   },
   "id": "6c0963e48e593185"
  },
  {
   "cell_type": "markdown",
   "source": [
    "## Errors when querying the trait set\n",
    "\n",
    "### Entities that don't exist (yet)\n",
    "\n",
    "For `kRead` access, the entity must exist:"
   ],
   "metadata": {
    "collapsed": false
   },
   "id": "71f2b1f16e08b7ae"
  },
  {
   "cell_type": "code",
   "execution_count": 63,
   "outputs": [
    {
     "data": {
      "text/markdown": "> **Result:**\n> `{'openassetio-mediacreation:identity.DisplayName', 'openassetio-mediacreation:content.LocatableContent', 'openassetio-mediacreation:timeDomain.FrameRanged', 'openassetio-mediacreation:lifecycle.Version', 'openassetio-mediacreation:usage.Entity'}`"
     },
     "metadata": {},
     "output_type": "display_data"
    }
   ],
   "source": [
    "future_ref = manager.createEntityReference(\"bal:///project_artwork/logos/new\")\n",
    "\n",
    "trait_set_or_error = manager.entityTraits(\n",
    "    logo_ref, EntityTraitsAccess.kRead, context, manager.BatchElementErrorPolicyTag.kVariant)\n",
    "\n",
    "helpers.display_result(trait_set_or_error)"
   ],
   "metadata": {
    "collapsed": false,
    "ExecuteTime": {
     "end_time": "2024-02-23T16:12:44.858297379Z",
     "start_time": "2024-02-23T16:12:44.832814495Z"
    }
   },
   "id": "32f76d73bd99a340"
  },
  {
   "cell_type": "markdown",
   "source": [
    "If the entity doesn't exist we get an `EntityAccessError`.\n",
    "\n",
    "On the other hand, this entity reference is fine for `kWrite`:"
   ],
   "metadata": {
    "collapsed": false
   },
   "id": "73b6ce44255392eb"
  },
  {
   "cell_type": "code",
   "execution_count": 64,
   "outputs": [
    {
     "data": {
      "text/markdown": "> **Result:**\n> `set()`"
     },
     "metadata": {},
     "output_type": "display_data"
    }
   ],
   "source": [
    "trait_set_or_error = manager.entityTraits(\n",
    "    future_ref, EntityTraitsAccess.kWrite, context, manager.BatchElementErrorPolicyTag.kVariant)\n",
    "\n",
    "helpers.display_result(trait_set_or_error)"
   ],
   "metadata": {
    "collapsed": false,
    "ExecuteTime": {
     "end_time": "2024-02-23T16:12:44.918770778Z",
     "start_time": "2024-02-23T16:12:44.859236096Z"
    }
   },
   "id": "1debd3dfd60cb52d"
  },
  {
   "cell_type": "markdown",
   "source": [
    "Here, once again, we get the minimal trait set required for publishing to this entity reference."
   ],
   "metadata": {
    "collapsed": false
   },
   "id": "50f192ae83209477"
  },
  {
   "cell_type": "markdown",
   "source": [
    "### Read-only entities\n",
    "\n",
    "BAL doesn't support publishing to a specific version tag (i.e. doesn't support overwriting a version). \n",
    "\n",
    "Let's see what happens when we try to get the traits of a specific version, but we use `kWrite` access, indicating that we intend to publish to the entity reference."
   ],
   "metadata": {
    "collapsed": false
   },
   "id": "4b1ebe5d69a64d8f"
  },
  {
   "cell_type": "code",
   "execution_count": 65,
   "outputs": [
    {
     "data": {
      "text/markdown": "> **Result:**\n> `{'openassetio-mediacreation:identity.DisplayName', 'openassetio-mediacreation:content.LocatableContent', 'openassetio-mediacreation:usage.Entity', 'openassetio-mediacreation:timeDomain.FrameRanged'}`"
     },
     "metadata": {},
     "output_type": "display_data"
    }
   ],
   "source": [
    "v1_ref = manager.createEntityReference(\"bal:///project_artwork/logos/openassetio?v=1\")\n",
    "\n",
    "trait_set_or_error = manager.entityTraits(\n",
    "    logo_ref, EntityTraitsAccess.kWrite, context, manager.BatchElementErrorPolicyTag.kVariant)\n",
    "\n",
    "helpers.display_result(trait_set_or_error)"
   ],
   "metadata": {
    "collapsed": false,
    "ExecuteTime": {
     "end_time": "2024-02-23T16:12:44.933169844Z",
     "start_time": "2024-02-23T16:12:44.918924732Z"
    }
   },
   "id": "ee61dbb2bd4b828f"
  },
  {
   "cell_type": "markdown",
   "source": [
    "Since the entity is read-only, we get an `EntityAccessError`."
   ],
   "metadata": {
    "collapsed": false
   },
   "id": "fff41a2190e269b6"
  },
  {
   "cell_type": "markdown",
   "source": [
    "## Generic resolve and re-publish\n",
    "\n",
    "A rare use-case is for a tool that blindly resolves, updates, and re-publishes an entity, regardless what type of entity it is. \n",
    "\n",
    "Such generic re-publishing is discouraged and dangerous. For example, if \"approval\" status is blindly resolved and re-published, the manager may not know how it should handle this properly. A better approach to such a generic tool is to present the traits and their properties to the user to select before re-publishing.\n",
    "\n",
    "However, such workflows are possible and have their place in a pipeline. This can be accomplished by making use of `entityTraits`. "
   ],
   "metadata": {
    "collapsed": false
   },
   "id": "9c4274b9aa5f4965"
  },
  {
   "cell_type": "markdown",
   "source": [
    "### Re-publishing a mutated entity\n",
    "\n",
    "The following presents an example of blindly updating the display name for any entity. Note that we make use of the fact that managers should silently ignore data that it cannot persist when publishing."
   ],
   "metadata": {
    "collapsed": false
   },
   "id": "92a3d36ca0b4a816"
  },
  {
   "cell_type": "code",
   "execution_count": 66,
   "outputs": [],
   "source": [
    "from openassetio_mediacreation.traits.identity import DisplayNameTrait\n",
    "\n",
    "# Get the complete trait set of the entity.\n",
    "entity_trait_set = manager.entityTraits(logo_ref, EntityTraitsAccess.kRead, context)\n",
    "\n",
    "# Ensure the manager will accept a publish of this entity with an updated display name.\n",
    "[policy_data] = manager.managementPolicy(\n",
    "    [entity_trait_set | {DisplayNameTrait.kId}], PolicyAccess.kWrite, context)\n",
    "\n",
    "if not DisplayNameTrait.kId in policy_data.traitSet():\n",
    "    raise Exception(\"Cannot update display name of this entity\")\n",
    "\n",
    "# Get all the properties of the given entity.\n",
    "data_to_publish = manager.resolve(logo_ref, entity_trait_set, ResolveAccess.kRead, context)\n",
    "\n",
    "# Any traits without properties, or where the manager cannot provide them, will be missing from the data.\n",
    "# We still need to imbue those traits, so that manager knows what kind of entity we are publishing.\n",
    "data_to_publish.addTraits(entity_trait_set)\n",
    "\n",
    "# Create/update the name of the entity.\n",
    "DisplayNameTrait(data_to_publish).setName(\"My New Name\")\n",
    "\n",
    "# Publish it. Any properties we `resolve`d that cannot be re-published will be silently ignored.\n",
    "updated_ref = manager.register(logo_ref, data_to_publish, PublishingAccess.kWrite, context)"
   ],
   "metadata": {
    "collapsed": false,
    "ExecuteTime": {
     "end_time": "2024-02-23T16:12:44.987321720Z",
     "start_time": "2024-02-23T16:12:44.932469897Z"
    }
   },
   "id": "499f2040f821e2cd"
  },
  {
   "cell_type": "markdown",
   "source": [
    "### Re-publishing a minimal entity\n",
    "\n",
    "The following example dives deeper into the interaction between `entityTraits`, `managementPolicy` and `resolve` for a generic re-publisher. \n",
    "\n",
    "We want to re-publish a minimal entity (i.e. only the traits absolutely required for the given entity reference), with two new/updated traits. One of the traits, `BearerTokenTrait`, might not be supported, and the other trait, `LocatableContentTrait`, might have its properties dictated by the manager."
   ],
   "metadata": {
    "collapsed": false
   },
   "id": "b0f6750002fc94ee"
  },
  {
   "cell_type": "code",
   "execution_count": 67,
   "outputs": [
    {
     "ename": "BatchElementException",
     "evalue": "entityAccessError: Unsupported access mode for resolve [index=0] [access=managerDriven] [entity=bal:///project_artwork/logos/openassetio]",
     "output_type": "error",
     "traceback": [
      "\u001B[0;31m---------------------------------------------------------------------------\u001B[0m",
      "\u001B[0;31mBatchElementException\u001B[0m                     Traceback (most recent call last)",
      "Cell \u001B[0;32mIn[67], line 19\u001B[0m\n\u001B[1;32m     16\u001B[0m trait_set_to_keep \u001B[38;5;241m=\u001B[39m trait_set_to_publish \u001B[38;5;241m-\u001B[39m {BearerTokenTrait\u001B[38;5;241m.\u001B[39mkId, LocatableContentTrait\u001B[38;5;241m.\u001B[39mkId}\n\u001B[1;32m     18\u001B[0m \u001B[38;5;66;03m# Get the properties that we wish to keep from the current version.\u001B[39;00m\n\u001B[0;32m---> 19\u001B[0m data_to_publish \u001B[38;5;241m=\u001B[39m \u001B[43mmanager\u001B[49m\u001B[38;5;241;43m.\u001B[39;49m\u001B[43mresolve\u001B[49m\u001B[43m(\u001B[49m\u001B[43mlogo_ref\u001B[49m\u001B[43m,\u001B[49m\u001B[43m \u001B[49m\u001B[43mtrait_set_to_keep\u001B[49m\u001B[43m,\u001B[49m\u001B[43m \u001B[49m\u001B[43mResolveAccess\u001B[49m\u001B[38;5;241;43m.\u001B[39;49m\u001B[43mkManagerDriven\u001B[49m\u001B[43m,\u001B[49m\u001B[43m \u001B[49m\u001B[43mcontext\u001B[49m\u001B[43m)\u001B[49m\n\u001B[1;32m     21\u001B[0m \u001B[38;5;66;03m# Any traits without properties, or where the manager cannot provide them, will be missing from the data.\u001B[39;00m\n\u001B[1;32m     22\u001B[0m \u001B[38;5;66;03m# We still need to imbue those traits, so that manager knows what kind of entity we are publishing.\u001B[39;00m\n\u001B[1;32m     23\u001B[0m data_to_publish\u001B[38;5;241m.\u001B[39maddTraits(minimum_trait_set)\n",
      "File \u001B[0;32m~/workspace/cloud/assetapi/OpenAssetIO-Manager-BAL/plugin/openassetio_manager_bal/BasicAssetLibraryInterface.py:79\u001B[0m, in \u001B[0;36msimulated_delay.<locals>.wrapper_simulated_delay\u001B[0;34m(self, *args, **kwargs)\u001B[0m\n\u001B[1;32m     77\u001B[0m \u001B[38;5;28;01mif\u001B[39;00m delay_ms \u001B[38;5;241m>\u001B[39m \u001B[38;5;241m0\u001B[39m:\n\u001B[1;32m     78\u001B[0m     time\u001B[38;5;241m.\u001B[39msleep(delay_ms \u001B[38;5;241m/\u001B[39m \u001B[38;5;241m1000.0\u001B[39m)  \u001B[38;5;66;03m# sleep takes seconds\u001B[39;00m\n\u001B[0;32m---> 79\u001B[0m \u001B[38;5;28;01mreturn\u001B[39;00m \u001B[43mfunc\u001B[49m\u001B[43m(\u001B[49m\u001B[38;5;28;43mself\u001B[39;49m\u001B[43m,\u001B[49m\u001B[43m \u001B[49m\u001B[38;5;241;43m*\u001B[39;49m\u001B[43margs\u001B[49m\u001B[43m,\u001B[49m\u001B[43m \u001B[49m\u001B[38;5;241;43m*\u001B[39;49m\u001B[38;5;241;43m*\u001B[39;49m\u001B[43mkwargs\u001B[49m\u001B[43m)\u001B[49m\n",
      "File \u001B[0;32m~/workspace/cloud/assetapi/OpenAssetIO-Manager-BAL/plugin/openassetio_manager_bal/BasicAssetLibraryInterface.py:291\u001B[0m, in \u001B[0;36mBasicAssetLibraryInterface.resolve\u001B[0;34m(self, entityReferences, traitSet, access, context, hostSession, successCallback, errorCallback)\u001B[0m\n\u001B[1;32m    289\u001B[0m     successCallback(idx, result)\n\u001B[1;32m    290\u001B[0m \u001B[38;5;28;01mexcept\u001B[39;00m \u001B[38;5;167;01mException\u001B[39;00m \u001B[38;5;28;01mas\u001B[39;00m exc:  \u001B[38;5;66;03m# pylint: disable=broad-except\u001B[39;00m\n\u001B[0;32m--> 291\u001B[0m     \u001B[38;5;28;43mself\u001B[39;49m\u001B[38;5;241;43m.\u001B[39;49m\u001B[43m__handle_exception\u001B[49m\u001B[43m(\u001B[49m\u001B[43mexc\u001B[49m\u001B[43m,\u001B[49m\u001B[43m \u001B[49m\u001B[43midx\u001B[49m\u001B[43m,\u001B[49m\u001B[43m \u001B[49m\u001B[43merrorCallback\u001B[49m\u001B[43m)\u001B[49m\n",
      "File \u001B[0;32m~/workspace/cloud/assetapi/OpenAssetIO-Manager-BAL/plugin/openassetio_manager_bal/BasicAssetLibraryInterface.py:620\u001B[0m, in \u001B[0;36mBasicAssetLibraryInterface.__handle_exception\u001B[0;34m(exc, idx, error_callback)\u001B[0m\n\u001B[1;32m    618\u001B[0m     code \u001B[38;5;241m=\u001B[39m BatchElementError\u001B[38;5;241m.\u001B[39mErrorCode\u001B[38;5;241m.\u001B[39mkMalformedEntityReference\n\u001B[1;32m    619\u001B[0m \u001B[38;5;28;01melse\u001B[39;00m:\n\u001B[0;32m--> 620\u001B[0m     \u001B[38;5;28;01mraise\u001B[39;00m exc\n\u001B[1;32m    622\u001B[0m error_callback(idx, BatchElementError(code, msg))\n",
      "File \u001B[0;32m~/workspace/cloud/assetapi/OpenAssetIO-Manager-BAL/plugin/openassetio_manager_bal/BasicAssetLibraryInterface.py:269\u001B[0m, in \u001B[0;36mBasicAssetLibraryInterface.resolve\u001B[0;34m(self, entityReferences, traitSet, access, context, hostSession, successCallback, errorCallback)\u001B[0m\n\u001B[1;32m    266\u001B[0m \u001B[38;5;66;03m# Ensure this entity supports the type of access\u001B[39;00m\n\u001B[1;32m    267\u001B[0m \u001B[38;5;66;03m# requested.\u001B[39;00m\n\u001B[1;32m    268\u001B[0m \u001B[38;5;28;01mif\u001B[39;00m kAccessNames[\u001B[38;5;28mint\u001B[39m(access)] \u001B[38;5;129;01mnot\u001B[39;00m \u001B[38;5;129;01min\u001B[39;00m entity\u001B[38;5;241m.\u001B[39msupported_access_modes:\n\u001B[0;32m--> 269\u001B[0m     \u001B[43merrorCallback\u001B[49m\u001B[43m(\u001B[49m\n\u001B[1;32m    270\u001B[0m \u001B[43m        \u001B[49m\u001B[43midx\u001B[49m\u001B[43m,\u001B[49m\n\u001B[1;32m    271\u001B[0m \u001B[43m        \u001B[49m\u001B[43mBatchElementError\u001B[49m\u001B[43m(\u001B[49m\n\u001B[1;32m    272\u001B[0m \u001B[43m            \u001B[49m\u001B[43mBatchElementError\u001B[49m\u001B[38;5;241;43m.\u001B[39;49m\u001B[43mErrorCode\u001B[49m\u001B[38;5;241;43m.\u001B[39;49m\u001B[43mkEntityAccessError\u001B[49m\u001B[43m,\u001B[49m\n\u001B[1;32m    273\u001B[0m \u001B[43m            \u001B[49m\u001B[38;5;124;43m\"\u001B[39;49m\u001B[38;5;124;43mUnsupported access mode for resolve\u001B[39;49m\u001B[38;5;124;43m\"\u001B[39;49m\u001B[43m,\u001B[49m\n\u001B[1;32m    274\u001B[0m \u001B[43m        \u001B[49m\u001B[43m)\u001B[49m\u001B[43m,\u001B[49m\n\u001B[1;32m    275\u001B[0m \u001B[43m    \u001B[49m\u001B[43m)\u001B[49m\n\u001B[1;32m    276\u001B[0m     \u001B[38;5;28;01mcontinue\u001B[39;00m\n\u001B[1;32m    278\u001B[0m result \u001B[38;5;241m=\u001B[39m TraitsData()\n",
      "\u001B[0;31mBatchElementException\u001B[0m: entityAccessError: Unsupported access mode for resolve [index=0] [access=managerDriven] [entity=bal:///project_artwork/logos/openassetio]"
     ]
    }
   ],
   "source": [
    "# The minimum set of traits required to publish to this entity reference.\n",
    "minimum_trait_set = manager.entityTraits(logo_ref, EntityTraitsAccess.kWrite, context)\n",
    "\n",
    "# Whatever the minimum trait set is, we know we want to publish a location and auth token.\n",
    "desired_trait_set = minimum_trait_set | {BearerTokenTrait.kId, LocatableContentTrait.kId}\n",
    "\n",
    "# Get the set of traits that have properties the manager can persist.\n",
    "[policy_for_desired_traits] = manager.managementPolicy(\n",
    "    [desired_trait_set], PolicyAccess.kWrite, context)\n",
    "\n",
    "# Filter down the desired traits to only those that are supported.\n",
    "trait_set_to_publish = desired_trait_set & policy_for_desired_traits.traitSet()\n",
    "\n",
    "# We want to keep (the minimum amount of) data from the previous version, except for the values we're going to\n",
    "# provide.\n",
    "trait_set_to_keep = trait_set_to_publish - {BearerTokenTrait.kId, LocatableContentTrait.kId}\n",
    "\n",
    "# Get the properties that we wish to keep from the current version.\n",
    "data_to_publish = manager.resolve(logo_ref, trait_set_to_keep, ResolveAccess.kManagerDriven, context)\n",
    "\n",
    "# Any traits without properties, or where the manager cannot provide them, will be missing from the data.\n",
    "# We still need to imbue those traits, so that manager knows what kind of entity we are publishing.\n",
    "data_to_publish.addTraits(minimum_trait_set)\n",
    "\n",
    "# Get the manager's policy for dictating trait properties, i.e. which traits the manager can `kDerive` for us.\n",
    "[policy_for_derived_traits] = manager.managementPolicy(\n",
    "    [trait_set_to_publish], PolicyAccess.kManagerDriven, context)\n",
    "\n",
    "# Check if the manager can derive a location for us.\n",
    "if LocatableContentTrait.kId in policy_for_derived_traits.traitSet():\n",
    "    # Imbue an empty LocatableContentTrait, so that the manager is aware in `preflight` that we intend to publish\n",
    "    # this trait. We will ask the manager to fill in the value for us before calling `register`.\n",
    "    LocatableContentTrait.imbueTo(data_to_publish)\n",
    "else:\n",
    "    # If the manager doesn't want to provide a location for entities of this type, use a default.\n",
    "    LocatableContentTrait(data_to_publish).setLocation(\"file:///tmp/file\")\n",
    "\n",
    "# Manager might not support BearerTokenTrait.\n",
    "if BearerTokenTrait.kId in trait_set_to_publish:\n",
    "    # BearerTokenTrait is supported, so imbue and configure.\n",
    "    BearerTokenTrait(data_to_publish).setToken(\"==ZxErn43G\")\n",
    "\n",
    "# We can now successfully begin the publishing process.\n",
    "working_ref = manager.preflight(logo_ref, data_to_publish, PublishingAccess.kWrite, context)\n",
    "\n",
    "# Check if the manager can provide a location to us.\n",
    "if LocatableContentTrait.kId in policy_for_derived_traits.traitSet():\n",
    "    derived_data = manager.resolve(\n",
    "        working_ref, {LocatableContentTrait.kId}, ResolveAccess.kManagerDriven, context)\n",
    "\n",
    "    # TODO(DF): `upsert` function for `TraitsData`.\n",
    "    LocatableContentTrait(data_to_publish).setLocation(\n",
    "        LocatableContentTrait(derived_data).getLocation())\n",
    "    \n",
    "# [Do some work to write the new file...]\n",
    "\n",
    "# We can now finally publish\n",
    "updated_ref = manager.register(logo_ref, data_to_publish, PublishingAccess.kWrite, context)"
   ],
   "metadata": {
    "collapsed": false,
    "ExecuteTime": {
     "end_time": "2024-02-23T16:12:45.038185988Z",
     "start_time": "2024-02-23T16:12:44.972924415Z"
    }
   },
   "id": "beab2b9a9c071302"
  }
 ],
 "metadata": {
  "kernelspec": {
   "display_name": "Python 3 (ipykernel)",
   "language": "python",
   "name": "python3"
  },
  "language_info": {
   "codemirror_mode": {
    "name": "ipython",
    "version": 3
   },
   "file_extension": ".py",
   "mimetype": "text/x-python",
   "name": "python",
   "nbconvert_exporter": "python",
   "pygments_lexer": "ipython3",
   "version": "3.11.3"
  }
 },
 "nbformat": 4,
 "nbformat_minor": 5
}
